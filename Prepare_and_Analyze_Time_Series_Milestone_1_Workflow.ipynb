{
  "cells": [
    {
      "cell_type": "markdown",
      "metadata": {
        "id": "KxQpw7SxXf8z"
      },
      "source": [
        "# Prepare and Analyze Time Series - Milestone 1"
      ]
    },
    {
      "cell_type": "markdown",
      "metadata": {
        "id": "nKbgeyIwXf9A"
      },
      "source": [
        "This Jupyter notebook serves as a guided workflow to Milestone 1 of the liveProject on End-to-end Time Series Forecasting with Deep Learning.\n",
        "\n",
        "You can upload this notebook to Colab and work from there. Alternatively, you can also work on this notebook in your local environment."
      ]
    },
    {
      "cell_type": "markdown",
      "metadata": {
        "id": "ukllI4csXf9Z"
      },
      "source": [
        "Our aim in this Milestone is to perform preliminary data processing and cleaning to have preprocessed data ready, as shown by the red dotted box in the diagram below."
      ]
    },
    {
      "cell_type": "markdown",
      "metadata": {
        "id": "1rpLnPJCXf9p"
      },
      "source": [
        "![Milestone 1](https://s3.ap-southeast-1.amazonaws.com/www.jiahao.io/manning/project1_milestone_1.png)"
      ]
    },
    {
      "cell_type": "markdown",
      "metadata": {
        "id": "LFQ8osYJXf95"
      },
      "source": [
        "## Importing Necessary Libraries and Functions"
      ]
    },
    {
      "cell_type": "markdown",
      "metadata": {
        "id": "g2aVi20nXf98"
      },
      "source": [
        "Let us first import the necessary libraries and load the data that we will be working with throughout this Milestone.  \n",
        "\n",
        "The data (data/sales.csv) that we are using is a daily retail sales dataset modified from the [M5 competition data](https://www.kaggle.com/c/m5-forecasting-accuracy/data). \n",
        "\n",
        "In this liveProject, you are a data scientist at a large retailer and your challenge is to forecast the sales of the respective stores by each category for the next 28 days."
      ]
    },
    {
      "cell_type": "markdown",
      "metadata": {
        "id": "InkTNb8CXf-R"
      },
      "source": [
        "<ins>Instructions</ins>:<br>\n",
        "- We have written the code to import the libraries so you can just run it as-is. If you need other libraries while working on this notebook, please feel free to add the library to this cell below."
      ]
    },
    {
      "cell_type": "code",
      "execution_count": null,
      "metadata": {
        "id": "wgcjBeLdXf-v"
      },
      "outputs": [],
      "source": [
        "RunningInCOLAB = 'google.colab' in str(get_ipython())\n",
        "\n",
        "# import necessary libraries\n",
        "import pandas as pd\n",
        "import numpy as np\n",
        "import matplotlib.pyplot as plt\n",
        "from scipy import signal\n",
        "\n",
        "%matplotlib inline\n",
        "\n",
        "# suppress pandas SettingWithCopyWarning \n",
        "pd.options.mode.chained_assignment = None"
      ]
    },
    {
      "cell_type": "markdown",
      "metadata": {
        "id": "pyOzqMQRXf_E"
      },
      "source": [
        "## Previewing the Sales Data"
      ]
    },
    {
      "cell_type": "markdown",
      "metadata": {
        "id": "suMJVf0kXf_s"
      },
      "source": [
        "Let us first have a preview of the data to understand what we will be working with."
      ]
    },
    {
      "cell_type": "markdown",
      "metadata": {
        "id": "Qwo36BzbXf_y"
      },
      "source": [
        "<ins>Instructions</ins>:<br>\n",
        "- Read in the data *sales.csv* from the data folder into a pandas dataframe and preview the first 5 rows.\n",
        "\n",
        "<ins>Note</ins>:<br>\n",
        "- If you are running this notebook in Colab, please upload *sales.csv* from the data folder."
      ]
    },
    {
      "cell_type": "markdown",
      "metadata": {},
      "source": [
        "<ins>Hints</ins> (click when needed):<br>\n",
        "- [Follow the example code here to upload files to Colab from your local file system](https://colab.research.google.com/notebooks/io.ipynb)\n",
        "- [Use Pandas `read_csv` function to load CSV data](https://pandas.pydata.org/pandas-docs/stable/reference/api/pandas.read_csv.html)\n",
        "- [Use Pandas `head` method to preview first 5 rows of dataframe `df`](https://pandas.pydata.org/docs/reference/api/pandas.DataFrame.head.html) "
      ]
    },
    {
      "cell_type": "code",
      "execution_count": null,
      "metadata": {
        "colab": {
          "base_uri": "https://localhost:8080/",
          "height": 89,
          "resources": {
            "http://localhost:8080/nbextensions/google.colab/files.js": {
              "data": "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",
              "headers": [
                [
                  "content-type",
                  "application/javascript"
                ]
              ],
              "ok": true,
              "status": 200,
              "status_text": ""
            }
          }
        },
        "id": "51d9EUZHdac_",
        "outputId": "402e6165-3f99-4a8c-cf1a-50995d1b3ca0"
      },
      "outputs": [],
      "source": [
        "# upload file from Colab\n"
      ]
    },
    {
      "cell_type": "code",
      "execution_count": null,
      "metadata": {
        "colab": {
          "base_uri": "https://localhost:8080/",
          "height": 391
        },
        "id": "7RpizKlwXf_1",
        "outputId": "73653ed6-9690-4082-9754-1f8967a41124"
      },
      "outputs": [],
      "source": [
        "# load data and view first 5 rows\n"
      ]
    },
    {
      "cell_type": "markdown",
      "metadata": {
        "id": "EgFpkzJKXgAC"
      },
      "source": [
        "You should see from the data preview that there are 4 columns with ~58k rows. The daily sales (column: `sales`) for each store (column: `store_id`) and category (column: `cat_id`) are listed in each row. \n",
        "\n",
        "If we generate the unique value count of the `store_id` and `cat_id`, we will see that there are 10 stores and 3 categories. Each store and category group is a time series, so we have 30 time series."
      ]
    },
    {
      "cell_type": "markdown",
      "metadata": {
        "id": "2frgYX0sXgAK"
      },
      "source": [
        "<ins>Instruction</ins>:<br>\n",
        "- Verify the number of unique values of `store_id` and `cat_id` each."
      ]
    },
    {
      "cell_type": "markdown",
      "metadata": {},
      "source": [
        "<ins>Hints</ins>:<br>\n",
        "- [Pandas `nunique` method can be used to verify number of unique values](https://pandas.pydata.org/docs/reference/api/pandas.Series.nunique.html)"
      ]
    },
    {
      "cell_type": "code",
      "execution_count": null,
      "metadata": {
        "colab": {
          "base_uri": "https://localhost:8080/"
        },
        "id": "iIdivPdbXgAO",
        "outputId": "15a45e36-bfd9-4348-9a10-52317528fb87"
      },
      "outputs": [],
      "source": [
        "# unique count of store_id and cat_id\n"
      ]
    },
    {
      "cell_type": "markdown",
      "metadata": {
        "id": "2eTQF41fXgAP"
      },
      "source": [
        "And in terms of the time period, our sales data start from 2011 to 2016. We also set the `date` column to datetime format."
      ]
    },
    {
      "cell_type": "markdown",
      "metadata": {
        "id": "MsxRVz_WXgAP"
      },
      "source": [
        "<ins>Instructions</ins>:<br>\n",
        "- Verify the date range of the `sales` data"
      ]
    },
    {
      "cell_type": "markdown",
      "metadata": {},
      "source": [
        "<ins>Hints</ins> (click when needed):<br>\n",
        "- [Use Pandas `to_datetime` function to convert dates in string format to datetime format](https://pandas.pydata.org/docs/reference/api/pandas.to_datetime.html)"
      ]
    },
    {
      "cell_type": "markdown",
      "metadata": {},
      "source": []
    },
    {
      "cell_type": "code",
      "execution_count": null,
      "metadata": {
        "colab": {
          "base_uri": "https://localhost:8080/"
        },
        "id": "3W24zZBJXgAS",
        "outputId": "6f519986-b4d5-4d80-ea8b-0cdf61d2ae7f"
      },
      "outputs": [],
      "source": [
        "# verify max and min date\n"
      ]
    },
    {
      "cell_type": "markdown",
      "metadata": {
        "id": "uVCHVEk2XgAU"
      },
      "source": [
        "## Processing of Data"
      ]
    },
    {
      "cell_type": "markdown",
      "metadata": {
        "id": "OY73d0TwXgAW"
      },
      "source": [
        "There are 3 common data quality issues to check for time series data:\n",
        "1. Irregular time series\n",
        "2. Outliers\n",
        "3. Missing data"
      ]
    },
    {
      "cell_type": "markdown",
      "metadata": {
        "id": "J65pQVGjXgAX"
      },
      "source": [
        "### Data quality issue - Irregular time series"
      ]
    },
    {
      "cell_type": "markdown",
      "metadata": {
        "id": "CZABUkISXgAb"
      },
      "source": [
        "In our case, our sales data is of daily frequency. However, the data may possibly miss out some dates (see point 1 in image below) or added more rows for the same date (see point 2 in image below). Hence, we need to ensure that every date is accounted by exactly one row. \n",
        "\n",
        "For the scenario of point 2 in image below, we will also need to check with the data owner on the proper treatment, i.e., do we add up the sales of both rows to get sales for 2011-02-19 or do we just keep the row with time 00:00:00 because the data is a snapshot of sales? \n",
        "\n"
      ]
    },
    {
      "cell_type": "markdown",
      "metadata": {
        "id": "BP2_pHJlXgAe"
      },
      "source": [
        "![Irregular Time Series](https://s3.ap-southeast-1.amazonaws.com/www.jiahao.io/manning/irregular_time_period.PNG)"
      ]
    },
    {
      "cell_type": "markdown",
      "metadata": {
        "id": "nOkqWo8NXgAh"
      },
      "source": [
        "<ins>Instruction</ins>:<br>\n",
        "- Check for duplicated dates within a store and category group"
      ]
    },
    {
      "cell_type": "markdown",
      "metadata": {},
      "source": [
        "<ins>Hints</ins> (click when needed):<br>\n",
        "- [Use Pandas `duplicated` method to check for duplicates](https://pandas.pydata.org/docs/reference/api/pandas.DataFrame.duplicated.html)"
      ]
    },
    {
      "cell_type": "code",
      "execution_count": null,
      "metadata": {
        "id": "blVp1mJQXgAh"
      },
      "outputs": [],
      "source": [
        "# check for duplicate dates within a store and category group\n"
      ]
    },
    {
      "cell_type": "markdown",
      "metadata": {
        "id": "0XI1kbceXgAh"
      },
      "source": [
        "You should find that there is no duplicated date in a store and category group.\n",
        "\n",
        "Next let's try to see if there is missing date in between the start and end date of sales."
      ]
    },
    {
      "cell_type": "markdown",
      "metadata": {
        "id": "dV5FvTHZXgAj"
      },
      "source": [
        "<ins>Instructions</ins>:<br>\n",
        "- Generate dataframe with the daily dates in between the start and end dates of sales. Then check if there is any missing date(s) in between."
      ]
    },
    {
      "cell_type": "markdown",
      "metadata": {},
      "source": [
        "<ins>Hints</ins> (click when needed):<br>\n",
        "- [Use Pandas `date_range` function to generate dates in a specified time period](https://pandas.pydata.org/docs/reference/api/pandas.date_range.html)"
      ]
    },
    {
      "cell_type": "code",
      "execution_count": null,
      "metadata": {
        "colab": {
          "base_uri": "https://localhost:8080/",
          "height": 267
        },
        "id": "oN3rW5tQXgAk",
        "outputId": "080ee141-28eb-4c7e-f895-d724657f32c3"
      },
      "outputs": [],
      "source": [
        "# generate daily dates between the start and end of sales\n",
        "# merge the dates dataframe with sales dataframe to check for missing dates\n"
      ]
    },
    {
      "cell_type": "markdown",
      "metadata": {
        "id": "GkGFqL45XgAq"
      },
      "source": [
        "Luckily for us, there is no missing date in between. If there is any, the `sales` value will be null and we can impute them later."
      ]
    },
    {
      "cell_type": "markdown",
      "metadata": {
        "id": "f4QX3N2nXgAq"
      },
      "source": [
        "### Data quality issue - Outliers"
      ]
    },
    {
      "cell_type": "markdown",
      "metadata": {
        "id": "oI1__BtdXgAr"
      },
      "source": [
        "There are various ways to check for outliers in time series. Here, we use the Interquartile Range (IQR) method mentioned in the book [Forecasting: Principles and Practice](https://otexts.com/fpp3/missing-outliers.html) by Rob J Hyndman and George Athanasopoulos. However, we modified the method a little by detrending the time series first before applying the IQR method."
      ]
    },
    {
      "cell_type": "markdown",
      "metadata": {
        "id": "NROlj05RXgAu"
      },
      "source": [
        "<ins>Instructions</ins>:<br>\n",
        "- Code the IQR method and implement it on the sales data. Take care to check for outliers by each store and category group. The sales dataframe should have a column named `anomaly` that will indicate each outlier as True and non-outliers as False.\n",
        "- Detrend the sales by each time series (i.e., each store and category group) before applying the IQR method."
      ]
    },
    {
      "cell_type": "markdown",
      "metadata": {},
      "source": [
        "<ins>Hints</ins> (click when needed):<br>\n",
        "- [Use Pandas `quantile` method to get the quantiles values](https://pandas.pydata.org/docs/reference/api/pandas.Series.quantile.html)\n",
        "- [Scipy `detrend` can be used to detrend the time series before applying IQR method](https://docs.scipy.org/doc/scipy/reference/generated/scipy.signal.detrend.html)"
      ]
    },
    {
      "cell_type": "code",
      "execution_count": null,
      "metadata": {
        "id": "eap5QdmBXgAv"
      },
      "outputs": [],
      "source": [
        "# outlier detection function\n",
        "def outlier_detection(df):\n",
        "    \"\"\"\n",
        "    Add column 'anomaly' to dataframe to mark outliers as True, non-outliers as False. \n",
        "    \"\"\"\n",
        "\n",
        "    return df\n",
        "\n",
        "# execute outlier detection function for each time series\n",
        " "
      ]
    },
    {
      "cell_type": "markdown",
      "metadata": {
        "id": "fNxynZStXgAw"
      },
      "source": [
        "Let's take a look at how our outlier detection method performs.\n",
        "\n",
        "In general, the method is able to capture most of the outliers (as seen from the diagrams below) that our human judgement would also determine to be outlying points. There are some outlying points that were missed out but we shall see in a while what these points may be and we can manually mark them as outlier if necessary.\n",
        "\n",
        "We also noticed that some of the points towards the tail end of the time series for the store *CA_2* and category *FOODS* seem to be wrongly marked as outliers. We can unmark these points as well."
      ]
    },
    {
      "cell_type": "markdown",
      "metadata": {
        "id": "GLM25GqbXgAw"
      },
      "source": [
        "<ins>Instructions</ins>:<br>\n",
        "- Visualize the outliers identified by overlaying them on a sales line plot. An example plot is as shown below.\n",
        "\n",
        "![Sales Line Plot with Outliers Example](https://s3.ap-southeast-1.amazonaws.com/www.jiahao.io/manning/sales_line_plot_w_outliers.png)\n"
      ]
    },
    {
      "cell_type": "markdown",
      "metadata": {},
      "source": [
        "<ins>Hints</ins> (click when needed):<br>\n",
        "- [Use Matplotlib `plot` function to draw a line plot](https://matplotlib.org/stable/api/_as_gen/matplotlib.pyplot.plot.html)"
      ]
    },
    {
      "cell_type": "code",
      "execution_count": null,
      "metadata": {
        "colab": {
          "base_uri": "https://localhost:8080/",
          "height": 336
        },
        "id": "8Gq-KS8RXgAw",
        "outputId": "a3a4332f-e092-4f61-ca83-9485085d24ee"
      },
      "outputs": [],
      "source": [
        "# sample one of the store category to see how our outlier detection performs\n",
        "def visualize_outliers(store, category):\n",
        "    # visualization of outliers detected\n",
        "    \n",
        "\n",
        "# sample one of the store category to see how our outlier detection performs\n",
        "visualize_outliers('TX_1', 'FOODS')"
      ]
    },
    {
      "cell_type": "markdown",
      "metadata": {
        "id": "nrruDzZnXgA5"
      },
      "source": [
        "We can unmark some of the points as outliers."
      ]
    },
    {
      "cell_type": "markdown",
      "metadata": {
        "id": "bW5jeivGXgA6"
      },
      "source": [
        "<ins>Instructions</ins>:<br>\n",
        "- If any of the \"outliers\" identified are incorrect, unmark them in your `anomaly` column."
      ]
    },
    {
      "cell_type": "code",
      "execution_count": null,
      "metadata": {
        "colab": {
          "base_uri": "https://localhost:8080/",
          "height": 336
        },
        "id": "jH0MJe5RXgA6",
        "outputId": "4213d08f-e979-4247-f8b6-edd2b50ea045"
      },
      "outputs": [],
      "source": [
        "# unmark points as outliers\n"
      ]
    },
    {
      "cell_type": "markdown",
      "metadata": {
        "id": "UROc6NU8XgBS"
      },
      "source": [
        "It turns out that when we filter and zoom into those outlying points with sales very close to 0, they seem to generally occur on 25th Dec. Seems likely due to Christmas... Turns out when you spoke to the data owner, it was revealed that the stores close on Christmas hence the close to zero sales.\n",
        "\n",
        "Let's mark these as outliers for the time being although we will need to take care to set predicted sales on Christmas to zero later."
      ]
    },
    {
      "cell_type": "markdown",
      "metadata": {
        "id": "gGTAxRUYXgBT"
      },
      "source": [
        "<ins>Instructions</ins>:<br>\n",
        "- Mark any additional points as outliers if necessary in your `anomaly` column"
      ]
    },
    {
      "cell_type": "code",
      "execution_count": null,
      "metadata": {
        "colab": {
          "base_uri": "https://localhost:8080/",
          "height": 336
        },
        "id": "fxNnxbfNXgBT",
        "outputId": "5711f399-bcf9-4d9a-f282-f4522e7470f9"
      },
      "outputs": [],
      "source": [
        "# mark points as outliers\n"
      ]
    },
    {
      "cell_type": "markdown",
      "metadata": {
        "id": "bCvnu2wLXgBZ"
      },
      "source": [
        "Finally, we will need to set our outliers to null sales value. In reality, we should talk to the data owner to find out the reasons for these outliers and decide if they are legitimate data points (e.g. the Christmas points) or erroneous points.\n",
        "\n",
        "For the Christmas data points, they reflect the calendar effect and in some models, we can leave these data points as they are and add in covariates indicating these calendar effects into the model. However for us, we will be using univariate model and it would better for us to remove these calendar effects.\n",
        "\n",
        "Before we set the outliers to null sales value, we can check for other null sales values if any and perform imputation in our next data quality check."
      ]
    },
    {
      "cell_type": "markdown",
      "metadata": {
        "id": "TQfpdGnMXgBa"
      },
      "source": [
        "### Data quality issue - Missing data"
      ]
    },
    {
      "cell_type": "markdown",
      "metadata": {
        "id": "LImM5ssHXgBa"
      },
      "source": [
        "First let's check for missing sales value. Then we proceed to set outlier to null sales value as mentioned in previous data quality check. And finally perform imputation of sales."
      ]
    },
    {
      "cell_type": "markdown",
      "metadata": {
        "id": "NySUqAf-XgBa"
      },
      "source": [
        "<ins>Instructions</ins>:<br>\n",
        "- Check how many rows have missing sales value"
      ]
    },
    {
      "cell_type": "markdown",
      "metadata": {},
      "source": [
        "<ins>Hints</ins> (click when needed):<br>\n",
        "- [Use Pandas `isna` method to check number of missing rows](https://pandas.pydata.org/docs/reference/api/pandas.Series.isna.html)"
      ]
    },
    {
      "cell_type": "code",
      "execution_count": null,
      "metadata": {
        "colab": {
          "base_uri": "https://localhost:8080/"
        },
        "id": "CRSmXPzGXgBa",
        "outputId": "bd7f94cb-cfda-4c2e-bda9-a3a394bceb16"
      },
      "outputs": [],
      "source": [
        "# check number of rows with missing sales\n"
      ]
    },
    {
      "cell_type": "markdown",
      "metadata": {
        "id": "KnMG31okXgBb"
      },
      "source": [
        "Good, seems like no missing sales. Well in fact, we knew there's no missing sales when we were previewing the data. But this is just for procedure.\n",
        "\n",
        "Next we can set our outliers to null sales value."
      ]
    },
    {
      "cell_type": "markdown",
      "metadata": {
        "id": "wsH5-JJVXgBb"
      },
      "source": [
        "<ins>Instructions</ins>:<br>\n",
        "- Set outliers to null sales value"
      ]
    },
    {
      "cell_type": "code",
      "execution_count": null,
      "metadata": {
        "colab": {
          "base_uri": "https://localhost:8080/"
        },
        "id": "l65VabmGXgBd",
        "outputId": "14251078-c865-4345-86c9-8422ea64b564"
      },
      "outputs": [],
      "source": [
        "# set outlier to null sales value\n"
      ]
    },
    {
      "cell_type": "markdown",
      "metadata": {
        "id": "Gq4n9AUWXgBg"
      },
      "source": [
        "We can now proceed to impute the missing sales. In our case, we have no extended missing sales period and the number of data points with missing sales is little compared to the total number of data points. Hence, we shall adopt linear interpolation method.\n",
        "\n",
        "First, we need to set the `date`, `store_id` and `cat_id` columns as index."
      ]
    },
    {
      "cell_type": "markdown",
      "metadata": {
        "id": "qOnH3JOKXgBg"
      },
      "source": [
        "<ins>Instructions</ins>:<br>\n",
        "- Impute the missing sales using linear interpolation method."
      ]
    },
    {
      "cell_type": "markdown",
      "metadata": {},
      "source": [
        "<ins>Hints</ins> (click when needed):<br>\n",
        "- [Use Pandas `interpolate` method to impute using linear interpolation method](https://pandas.pydata.org/docs/reference/api/pandas.DataFrame.interpolate.html)"
      ]
    },
    {
      "cell_type": "code",
      "execution_count": null,
      "metadata": {
        "colab": {
          "base_uri": "https://localhost:8080/"
        },
        "id": "5uFodXDzXgBg",
        "outputId": "6cee9293-d053-4227-c162-65e5acec4332"
      },
      "outputs": [],
      "source": [
        "# impute missing sales\n"
      ]
    },
    {
      "cell_type": "markdown",
      "metadata": {
        "id": "PcMj_UojXgBg"
      },
      "source": [
        "With these data quality checks done, we have completed Milestone 1 and prepared our preprocessed data. Good job!\n",
        "\n",
        "Now let's save our preprocessed data as `sales_processed.csv` in the data folder."
      ]
    },
    {
      "cell_type": "markdown",
      "metadata": {
        "id": "0qetS6b3XgBj"
      },
      "source": [
        "<ins>Instructions</ins>:<br>\n",
        "- Save the preprocessed data as `sales_processed.csv` in the data folder"
      ]
    },
    {
      "cell_type": "markdown",
      "metadata": {},
      "source": [
        "<ins>Hints</ins> (click when needed):<br>\n",
        "- [Use Pandas `to_csv` method to save your output as CSV file](https://pandas.pydata.org/docs/reference/api/pandas.DataFrame.to_csv.html)"
      ]
    },
    {
      "cell_type": "code",
      "execution_count": null,
      "metadata": {
        "id": "thfGUShkXgBj"
      },
      "outputs": [],
      "source": [
        "# write to CSV\n"
      ]
    },
    {
      "cell_type": "markdown",
      "metadata": {},
      "source": [
        "Do check your answers against our solution before moving on to the next Milestone."
      ]
    }
  ],
  "metadata": {
    "colab": {
      "collapsed_sections": [],
      "name": "Prepare and Analyze Time Series - Milestone 1 Solution.ipynb",
      "provenance": []
    },
    "interpreter": {
      "hash": "b7bc2e76cbe5fb8595f4ba211d5aadd6fa3b8e13e3681bdb0f26937058245569"
    },
    "kernelspec": {
      "display_name": "Python 3.7.10 64-bit ('manning': conda)",
      "name": "python3"
    },
    "language_info": {
      "codemirror_mode": {
        "name": "ipython",
        "version": 3
      },
      "file_extension": ".py",
      "mimetype": "text/x-python",
      "name": "python",
      "nbconvert_exporter": "python",
      "pygments_lexer": "ipython3",
      "version": "3.7.10"
    },
    "orig_nbformat": 4
  },
  "nbformat": 4,
  "nbformat_minor": 2
}
